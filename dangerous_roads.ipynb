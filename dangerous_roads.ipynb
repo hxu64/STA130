{
 "cells": [
  {
   "cell_type": "code",
   "execution_count": 1,
   "id": "b5dceb52",
   "metadata": {},
   "outputs": [],
   "source": [
    "import pandas as pd"
   ]
  },
  {
   "cell_type": "code",
   "execution_count": null,
   "id": "c370a1f4",
   "metadata": {},
   "outputs": [],
   "source": [
    "# https://chatgpt.com/share/397223f1-e778-4830-b2cf-07cc2ab62319\n",
    "# https://jupyter.utoronto.ca/user/maxh.xu@mail.utoronto.ca/notebooks/.ipython/dangerous_roads.ipynb#"
   ]
  },
  {
   "cell_type": "code",
   "execution_count": 2,
   "id": "9e52c87f",
   "metadata": {},
   "outputs": [],
   "source": [
    "# Load the dataset\n",
    "url = 'https://data.world/data-society/worlds-most-dangerous-roads/download/csv'\n",
    "data = pd.read_csv(url)"
   ]
  },
  {
   "cell_type": "code",
   "execution_count": 3,
   "id": "991fceca",
   "metadata": {},
   "outputs": [
    {
     "name": "stdout",
     "output_type": "stream",
     "text": [
      "Empty DataFrame\n",
      "Columns: [<!doctype html><html lang=\"en\"><head> <title data-react-helmet=\"true\">Not found | data.world</title>    <meta charset=\"utf-8\"><meta name=\"viewport\" content=\"width=device-width, initial-scale=1\"><meta name=\"referrer\" content=\"origin-when-cross-origin\"><meta name=\"og:image\" content=\"https://d2ogkq1rg66kh0.cloudfront.net/site-resources/images/fb-image-share.3a87a6eb.png\"><meta name=\"og:site_name\" content=\"data.world\"><meta name=\"twitter:card\" content=\"summary\"><meta name=\"twitter:site\" content=\"@datadotworld\"><meta property=\"fb:app_id\" content=\"776416075825233\"><link rel=\"preconnect\" href=\"https://fonts.googleapis.com\"><link rel=\"preconnect\" href=\"https://fonts.gstatic.com\" crossorigin><link rel=\"stylesheet\" href=\"https://fonts.googleapis.com/css2?family=Inconsolata:wght@400;700&family=Lato:ital, wght@0, 300;0, 400;0, 700;1, 300;1, 400;1, 700&family=Poppins:ital, wght@0.1, 200;0, 300;0.1, 400;0.1, 600;1, 300;1.1, 400;1.1, 600&family=Figtree:ital, wght@0.2, 200;0.1, 400;0.2, 500;0, 600;1.1, 200;1, 400;1.2, 600&display=swap\"><link rel=\"search\" href=\"/opensearch.xml\" type=\"application/opensearchdescription+xml\" title=\"data.world\"><link rel=\"stylesheet\" type=\"text/css\" href=\"/api/theme.css\">  <link rel=\"apple-touch-icon\" sizes=\"57x57\" href=\"https://assets.data.world/icons-d1940ad25da01d05b8f27389101617c1/apple-touch-icon-57x57.png\"><link rel=\"apple-touch-icon\" sizes=\"60x60\" href=\"https://assets.data.world/icons-d1940ad25da01d05b8f27389101617c1/apple-touch-icon-60x60.png\"><link rel=\"apple-touch-icon\" sizes=\"72x72\" href=\"https://assets.data.world/icons-d1940ad25da01d05b8f27389101617c1/apple-touch-icon-72x72.png\"><link rel=\"apple-touch-icon\" sizes=\"76x76\" href=\"https://assets.data.world/icons-d1940ad25da01d05b8f27389101617c1/apple-touch-icon-76x76.png\"><link rel=\"apple-touch-icon\" sizes=\"114x114\" href=\"https://assets.data.world/icons-d1940ad25da01d05b8f27389101617c1/apple-touch-icon-114x114.png\"><link rel=\"apple-touch-icon\" sizes=\"120x120\" href=\"https://assets.data.world/icons-d1940ad25da01d05b8f27389101617c1/apple-touch-icon-120x120.png\"><link rel=\"apple-touch-icon\" sizes=\"144x144\" href=\"https://assets.data.world/icons-d1940ad25da01d05b8f27389101617c1/apple-touch-icon-144x144.png\"><link rel=\"apple-touch-icon\" sizes=\"152x152\" href=\"https://assets.data.world/icons-d1940ad25da01d05b8f27389101617c1/apple-touch-icon-152x152.png\"><link rel=\"apple-touch-icon\" sizes=\"180x180\" href=\"https://assets.data.world/icons-d1940ad25da01d05b8f27389101617c1/apple-touch-icon-180x180.png\"><meta name=\"apple-mobile-web-app-capable\" content=\"yes\"><meta name=\"apple-mobile-web-app-status-bar-style\" content=\"black-translucent\"><meta name=\"apple-mobile-web-app-title\" content=\"data.world\"><meta name=\"mobile-web-app-capable\" content=\"yes\"><meta name=\"theme-color\" content=\"#fff\"><meta name=\"application-name\" content=\"data.world\"><link rel=\"icon\" type=\"image/png\" sizes=\"32x32\" href=\"https://assets.data.world/icons-d1940ad25da01d05b8f27389101617c1/favicon-32x32.png\"><link rel=\"icon\" type=\"image/png\" sizes=\"16x16\" href=\"https://assets.data.world/icons-d1940ad25da01d05b8f27389101617c1/favicon-16x16.png\"><link rel=\"shortcut icon\" href=\"https://assets.data.world/icons-d1940ad25da01d05b8f27389101617c1/favicon.ico\"><link href=\"https://assets.data.world/css/vendors~app.439dd11dcda45522b98e.css\" rel=\"stylesheet\"><link href=\"https://assets.data.world/css/vendors~app~vendors.bc998e9fd952b1e6d8c4.css\" rel=\"stylesheet\"><link href=\"https://assets.data.world/css/vendors.db9ec7b6e23c444e5114.css\" rel=\"stylesheet\"><link href=\"https://assets.data.world/css/app.5858e0b2b208ff0c0b13.css\" rel=\"stylesheet\"></head><body ><div id=\"root\"><div class=\"page-container modern-theme-opt-out\"><a href=\"#main-content\" class=\"SkipLink__skipLink___oNBn7\"><span>Skip to main content</span></a><div data-analytics-breadcrumb=\"Header\" class=\"Header__globalNav___3v0dP\"><nav data-dw=\"header\" class=\"Header__navbar___YIpWp navbar navbar-inverse\"><div class=\"container\"><div><div class=\"show-grid row\"><div class=\"col-md-3 col-sm-3 col-xs-12\"><div class=\"Header__navbarSpacing___2bfmz show-grid row\"><div class=\"col-xs-12\"><a target=\"_self\" class=\"Header__brand___2oS_y navbar-brand\" href=\"/\"><img itemProp=\"image\" src=\"https://assets.data.world/assets/logo-horiz-white.4ce1e77312620581d5a1c421c845b488.svg\" alt=\"data.world\" class=\"Header__logo___2jKwz\"/></a></div></div></div></div></div></div></nav></div><div class=\"view-container\"><main id=\"main-content\" tabindex=\"-1\" class=\"container text-center NotFoundView__container___2Fi5r\" data-dw=\"NotFound\"><img srcSet=\"https://assets.data.world/assets/passport-1x.1a4368edca05d72e4ce55ca1b31312e6.png 1x,  https://assets.data.world/assets/passport-2x.5fb3b7cd660426ba99cb37fceb736927.png 2x,  https://assets.data.world/assets/passport-3x.d5c786a316a98e90672527f9917da076.png 3x\" src=\"https://assets.data.world/assets/passport-3x.d5c786a316a98e90672527f9917da076.png\" class=\"NotFoundView__img___JRrRm\" alt=\"404 image\"/><h3><span>Oops! We can&#x27;t find that page.</span></h3><div class=\"NotFoundView__loginLink___-I3J2\"><span>If you expect something to be here,  you may need to</span> <a href=\"\"><span>sign in</span></a>.</div><div class=\"NotFoundView__buttonsWrapper___1JEiG\"><a class=\"btn btn-default\" href=\"/\"><span>Go to the home page</span></a></div></main></div><div data-analytics-breadcrumb=\"Footer\" class=\"Footer__container___3dfAC text-muted\"><ul class=\"list-inline\"><li><a target=\"_blank\" href=\"https://data.world/home\"><small><span>About data.world</span></small></a></li><li><a target=\"_blank\" href=\"/policy\"><small><span>Terms &amp; Privacy</span></small></a></li><br/><li><small>© <!-- -->2024<!-- --> data.world,  inc</small></li></ul></div></div></div><script type=\"application/json\" id=\"init-data\">{\"catalog\":{\"loadedResources\":{}, hoots:{}}, clients:{}, currentUser:{\"profile\":{\"abTests\":{\"buckets\":{\"searchUiTheme\":{\"name\":\"modern\", value:1}, uiTheme:{\"name\":\"default\", value:0}, sqlQuery:{\"name\":\"presto\", value:4}, sqlAlgebra:{\"name\":\"preferLegacy\", value:2}, coreLayoutRefactor:{\"name\":\"active\", value:1}.1, loadInstanceConfig:{\"name\":\"load-instance-config\", value:1}}}, accountStanding:\"good\", activeSubscriptionid:\"\", agentid:\"\", authorizationLevels:{\"org\":\"READ\", allCatalogs:\"NONE\", dataLibrary:\"NONE\"}, avatarUrl:\"\", bio:\"\", catalogStatistics:{\"analysesCount\":0, datasetsCount:0, dataTypesCount:0, glossaryCount:0, projectsCount:0, tablesCount:0}, displayName:\"\", email:\"\", created:\"\", company:\"\", emailVerified:true, location:\"\", numFollowers:0, numFollowing:0, numOrganizations:0, orgMode:false, orgDetails:null, orgPreferences:null, relationship:{\"member\":false, followed:false}, staticGrants:{\"aiceAnswerAgentEnabled\":false, businessGlossaryEnabled:false, hootsEnabled:false, lineageEnabled:false, metadataCatalogEnabled:false, nativeLineageEnabled:false, personalDatasetsDisabled:false, preventGuestAuthorizations:false, preventGuestUserInvite:false, preventOpenDatasets:false, preventSignedShareUrls:false, samlAllowed:false, thirdPartyAiEnabled:false}, scimDetails:null, scimManaged:false, tags:[], updated:\"\", userCapabilities:{\"canBulkEditAllMetadataResources\":false, canCreateCollections:false, canCreateDataResources:false, canCreateMetadataResources:false, canDebugMetadataProfile:false, canEditAllDatasetMetadata:false, canManageAllCollectionAccess:false, canManageAllCollectionHierarchy:false, canManageAllDataResources:false, canManageAllHoots:false, canManageOrgAccess:false, canManageOrgAutomations:false, ...]\n",
      "Index: []\n",
      "\n",
      "[0 rows x 740 columns]\n"
     ]
    }
   ],
   "source": [
    "# Display the first few rows of the dataset\n",
    "print(data.head())"
   ]
  },
  {
   "cell_type": "code",
   "execution_count": 4,
   "id": "9ae156a1",
   "metadata": {},
   "outputs": [
    {
     "name": "stdout",
     "output_type": "stream",
     "text": [
      "\n",
      "Missing data counts for each column:\n",
      " <!doctype html><html lang=\"en\"><head> <title data-react-helmet=\"true\">Not found | data.world</title>    <meta charset=\"utf-8\"><meta name=\"viewport\" content=\"width=device-width                                                                                                                                                                                                                                                                                                                                                                                                                                                                                                                                                                                                                                                                                                                          0\n",
      "initial-scale=1\"><meta name=\"referrer\" content=\"origin-when-cross-origin\"><meta name=\"og:image\" content=\"https://d2ogkq1rg66kh0.cloudfront.net/site-resources/images/fb-image-share.3a87a6eb.png\"><meta name=\"og:site_name\" content=\"data.world\"><meta name=\"twitter:card\" content=\"summary\"><meta name=\"twitter:site\" content=\"@datadotworld\"><meta property=\"fb:app_id\" content=\"776416075825233\"><link rel=\"preconnect\" href=\"https://fonts.googleapis.com\"><link rel=\"preconnect\" href=\"https://fonts.gstatic.com\" crossorigin><link rel=\"stylesheet\" href=\"https://fonts.googleapis.com/css2?family=Inconsolata:wght@400;700&family=Lato:ital                                                                                                                                                                                                                                                       0\n",
      "wght@0                                                                                                                                                                                                                                                                                                                                                                                                                                                                                                                                                                                                                                                                                                                                                                                                                                                                                                   0\n",
      "300;0                                                                                                                                                                                                                                                                                                                                                                                                                                                                                                                                                                                                                                                                                                                                                                                                                                                                                                    0\n",
      "400;0                                                                                                                                                                                                                                                                                                                                                                                                                                                                                                                                                                                                                                                                                                                                                                                                                                                                                                    0\n",
      "                                                                                                                                                                                                                                                                                                                                                                                                                                                                                                                                                                                                                                                                                                                                                                                                                                                                                                        ..\n",
      "placeholder:\"Share what you would like to do with this dataset\".1                                                                                                                                                                                                                                                                                                                                                                                                                                                                                                                                                                                                                                                                                                                                                                                                                                        0\n",
      "required:true.2                                                                                                                                                                                                                                                                                                                                                                                                                                                                                                                                                                                                                                                                                                                                                                                                                                                                                          0\n",
      "readOnly:false.1                                                                                                                                                                                                                                                                                                                                                                                                                                                                                                                                                                                                                                                                                                                                                                                                                                                                                         0\n",
      "showOptionalFlag:false.1                                                                                                                                                                                                                                                                                                                                                                                                                                                                                                                                                                                                                                                                                                                                                                                                                                                                                 0\n",
      "type:\"textarea\"}]}</script><script type=\"application/json\" id=\"init-analytics\">{\"siteId\":\"00000\"}</script><script src=\"https://js.stripe.com/v3/\" async id=\"stripe-js\"></script>  <script type=\"text/javascript\" src=\"https://assets.data.world/js/runtime.5b9a030a9fc2c5888f61.js\"></script><script type=\"text/javascript\" src=\"https://assets.data.world/js/vendors~RichTextEditor~vendors.3b43c4370a7e3ff92a6f.js\"></script><script type=\"text/javascript\" src=\"https://assets.data.world/js/vendors~app.e2d3a85804f3082d6cb1.js\"></script><script type=\"text/javascript\" src=\"https://assets.data.world/js/vendors~app~vendors.160641b1a6862de8f809.js\"></script><script type=\"text/javascript\" src=\"https://assets.data.world/js/vendors.7099dc19aa1781ddbc56.js\"></script><script type=\"text/javascript\" src=\"https://assets.data.world/js/app.1c775a6dc1f0824e8057.js\"></script></body></html>    0\n",
      "Length: 740, dtype: int64\n"
     ]
    }
   ],
   "source": [
    "# Get missing data counts for each column\n",
    "missing_data = data.isna().sum()\n",
    "print(\"\\nMissing data counts for each column:\\n\", missing_data)"
   ]
  },
  {
   "cell_type": "code",
   "execution_count": null,
   "id": "16c470c0",
   "metadata": {},
   "outputs": [],
   "source": []
  }
 ],
 "metadata": {
  "kernelspec": {
   "display_name": "Python 3 (ipykernel)",
   "language": "python",
   "name": "python3"
  },
  "language_info": {
   "codemirror_mode": {
    "name": "ipython",
    "version": 3
   },
   "file_extension": ".py",
   "mimetype": "text/x-python",
   "name": "python",
   "nbconvert_exporter": "python",
   "pygments_lexer": "ipython3",
   "version": "3.11.6"
  }
 },
 "nbformat": 4,
 "nbformat_minor": 5
}
